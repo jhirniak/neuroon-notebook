{
 "cells": [
  {
   "cell_type": "markdown",
   "metadata": {},
   "source": [
    "# NeuroOn Hypnogram Analysis\n",
    "\n",
    "Following my principles of Open Access and Open Notebook Science I'd like to present you my comparative analysis of NeuroOn and a professional polisomnograph recording from two nights. To learn more about the experiment itself, please head back to my [previous blog post](https://alxd.org/neuroon-analysis-sources.html).\n",
    "\n",
    "*[more on NeuroOn and AURA PSG, make assumption that Aura is the closest thing to what is actually happening in the brain]*\n",
    "\n",
    "At the moment of writing this I haven't been professionally involved in EEG analysis for over two years - please feel free to comment on my code and let me know if any part is unclear or may lead to wrong conclusions."
   ]
  },
  {
   "cell_type": "markdown",
   "metadata": {},
   "source": [
    "## Signal formats\n",
    "\n",
    "NeuroOn signal was obtained by using proprietary Intelclinic's scripts I am not allowed to share. They produced four CSV files, containing respectively:\n",
    "\n",
    " - EEG signal (125 Hz)\n",
    " - accelerometer signal\n",
    " - LED activity\n",
    " - Staging ([hypnogram](https://en.wikipedia.org/wiki/Hypnogram))\n",
    "\n",
    "AURA PSG signal was exported to an EDF format using Grass Technologies PSG TWin 4.5.4 and 4.5.2 to minimize the risk of software-derived artifacts. The channels signals include:\n",
    "\n",
    " - EOG1-A1\n",
    " - EOG2-A1\n",
    " - CHIN1-CHIN2\n",
    " - CHIN2-CHIN3\n",
    " - F3-A2\n",
    " - C3-A2\n",
    " - O1-A2\n",
    " - F4-A1\n",
    " - C4-A1\n",
    " - O2-A1\n",
    " - SNORE (first night only)\n",
    " - FLOW (first night only)\n",
    " - CHEST (first night only)\n",
    " - ABDOMEN (first night only)\n",
    " - ECG (first night only)\n",
    " - SaO2 (blood oxygen saturation, first night only)\n",
    " - HR (heart rate, first night only)\n",
    " - LEG1 (first night only)\n",
    " - LEG2 (first night only)\n",
    " - Pos (first night only)\n",
    "\n",
    "PSG signals from both nights were scored by a professional and exported to XLS and CSV files.\n",
    "\n",
    "Since proper comparative analysis of NeuroOn's and AURA's signals would require an immense amount of work, I'd like to start with comparing their hypnograms."
   ]
  },
  {
   "cell_type": "markdown",
   "metadata": {},
   "source": [
    "## Time synchronisation\n",
    "\n",
    "Hypnogram comparison requires us to synchronise signals from both devices in time. With NeuroOn operating in debug mode there was no way I know of to place markers, leaving us with no easy way to sync. To counter that, for the first several minutes of PSG recording I repeatedly clenched my jaw and moved my eyebrows to introduce muscle artifacts to both signals, allowing me to synchronise both afterwards.\n",
    "\n",
    "Luckily, the latest version of software I was given by Intelclinic supports recovering timestamps from the device, which could make the whole undertaking a lot easier. It should be enough to:\n",
    "\n",
    " - find the initial timestamps of both signals\n",
    " - [tests - autocorrelation, correlation in time]\n",
    " - visualize them\n",
    " - adjust or remove hypnogram datapoints outside of common recording time\n",
    "\n",
    "At this point it's important to remember that the devices recorded signal with different sampling rate, `125 Hz` for NeuroOn and `200 Hz` for AURA."
   ]
  },
  {
   "cell_type": "code",
   "execution_count": 5,
   "metadata": {
    "collapsed": false
   },
   "outputs": [],
   "source": [
    "import pyedflib as el\n",
    "\n",
    "# first, open the AURA signal file from the first night\n",
    "edf_file = el.EdfReader('night_01/psg_signal.edf')"
   ]
  },
  {
   "cell_type": "code",
   "execution_count": 2,
   "metadata": {
    "collapsed": false
   },
   "outputs": [],
   "source": [
    "# now open NeuroOn signal file\n",
    "\n",
    "def read_csv_to_int_arrays(file):\n",
    "    parsed_signal = [] # change to numpy later\n",
    "    with open(file) as csv_file:\n",
    "        for line in csv_file.readlines()[1:]:\n",
    "            single_line = line.strip('\\n').split(',')\n",
    "            parsed_signal.append([int(single_line[0]), int(single_line[1])])\n",
    "    return parsed_signal\n",
    "\n",
    "neuroon_signal = read_csv_to_int_arrays('night_01/neuroon_signal.csv')"
   ]
  },
  {
   "cell_type": "code",
   "execution_count": 12,
   "metadata": {
    "collapsed": false
   },
   "outputs": [
    {
     "name": "stdout",
     "output_type": "stream",
     "text": [
      "PSG recording started 2016-06-20 22:29:48\n",
      "NeuroOn recording started 2016-06-20 22:01:00\n"
     ]
    }
   ],
   "source": [
    "from datetime import datetime\n",
    "\n",
    "# read respective starting timestamps\n",
    "\n",
    "psg_start = edf_file.getStartdatetime()\n",
    "psg_start_timestamp = psg_start.timestamp()\n",
    "print('PSG recording started', psg_start)\n",
    "\n",
    "\n",
    "neuroon_start_timestamp = neuroon_signal[0][0]/1000\n",
    "neuroon_start = datetime.fromtimestamp(neuroon_start_timestamp)\n",
    "print('NeuroOn recording started', neuroon_start)"
   ]
  },
  {
   "cell_type": "markdown",
   "metadata": {},
   "source": [
    "```\n",
    "PSG recording started 2016-06-20 22:29:48\n",
    "NeuroOn recording started 2016-06-20 22:01:00\n",
    "```\n",
    "\n",
    "Which suggests that if NeuroOn timestamps are right, it started recording about 28 minutes before the PSG - just after being programmed via the debugger. This is not the only possibility however - we should also check if the signal gathered at the same timestamps corresponds to the signal from the closest PSG electrode - `EOG1-A1`."
   ]
  },
  {
   "cell_type": "code",
   "execution_count": 39,
   "metadata": {
    "collapsed": false
   },
   "outputs": [
    {
     "name": "stdout",
     "output_type": "stream",
     "text": [
      "PSG initial timestamp 1466454588.0\n",
      "1000 miliseconds between 125 NeuroOn samples\n",
      "We need to adjust the NeuroOn signal 1728.0 seconds\n",
      "Synced signal starts at NeuroOns 216000 index\n",
      "Timestamps are equal True\n"
     ]
    }
   ],
   "source": [
    "# Let's begin with finding a NeuroOn timestamp corresponding with the first Aura's timestamp\n",
    "print('PSG initial timestamp', psg_start_timestamp)\n",
    "\n",
    "# NeuroOn sampling rate was specified to be 125 Hz, but let's check\n",
    "miliseconds_between_125_samples = neuroon_signal[125][0] - neuroon_signal[0][0]\n",
    "print(miliseconds_between_125_samples, 'miliseconds between 125 NeuroOn samples')\n",
    "\n",
    "NEUROON_SAMPLE_RATE = 125\n",
    "\n",
    "# TODO: Refactor everything using miliseconds to make sure about the precision level\n",
    "\n",
    "seconds_between_startdates = psg_start_timestamp - neuroon_start_timestamp\n",
    "print('We need to adjust the NeuroOn signal', seconds_between_startdates, 'seconds')\n",
    "\n",
    "neuroon_sync_index = int(NEUROON_SAMPLE_RATE * seconds_between_startdates)\n",
    "print('Synced signal starts at NeuroOns', neuroon_sync_index, 'index')\n",
    "\n",
    "print('Timestamps are equal', neuroon_signal[neuroon_sync_index][0]/1000 == psg_start_timestamp)"
   ]
  },
  {
   "cell_type": "markdown",
   "metadata": {
    "collapsed": false
   },
   "source": [
    "```\n",
    "PSG initial timestamp 1466454588.0\n",
    "1000 miliseconds between 125 NeuroOn samples\n",
    "We need to adjust the NeuroOn signal 1728.0 seconds\n",
    "Synced signal starts at NeuroOns 216000 index\n",
    "Timestamps are equal True\n",
    "```\n",
    "Now we can visualize first 10 seconds of each signal to get a visual overview - and run some tests to check if the signals correlate."
   ]
  },
  {
   "cell_type": "markdown",
   "metadata": {},
   "source": [
    "http://matplotlib.org/examples/pylab_examples/mri_with_eeg.html\n",
    "https://scipy.github.io/old-wiki/pages/Cookbook/Matplotlib/MultilinePlots.html"
   ]
  },
  {
   "cell_type": "code",
   "execution_count": null,
   "metadata": {
    "collapsed": true
   },
   "outputs": [],
   "source": []
  }
 ],
 "metadata": {
  "kernelspec": {
   "display_name": "Python 3",
   "language": "python",
   "name": "python3"
  },
  "language_info": {
   "codemirror_mode": {
    "name": "ipython",
    "version": 3
   },
   "file_extension": ".py",
   "mimetype": "text/x-python",
   "name": "python",
   "nbconvert_exporter": "python",
   "pygments_lexer": "ipython3",
   "version": "3.4.3+"
  }
 },
 "nbformat": 4,
 "nbformat_minor": 0
}
